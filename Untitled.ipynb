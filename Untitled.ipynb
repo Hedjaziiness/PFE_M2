{
 "cells": [
  {
   "cell_type": "code",
   "execution_count": null,
   "id": "4a65f0fb-1fe7-460b-b18e-4cd653530818",
   "metadata": {},
   "outputs": [],
   "source": []
  },
  {
   "cell_type": "code",
   "execution_count": 2,
   "id": "35b3989e-483c-478d-aaa5-f26b5489d36e",
   "metadata": {},
   "outputs": [
    {
     "name": "stdout",
     "output_type": "stream",
     "text": [
      "🔍 Scraping : Culture algérienne - https://fr.wikipedia.org/wiki/Culture_alg%C3%A9rienne#:~:text=La%20culture%20alg%C3%A9rienne%20est%20marqu%C3%A9e%20par%20sa%20diversit%C3%A9%2C,ville%20ou%20oasis%20constitue%20un%20espace%20culturel%20particulier.\n",
      "🔍 Scraping : Histoire de l'Algérie - https://fr.wikipedia.org/wiki/Histoire_de_l%27Alg%C3%A9rie\n",
      "🔍 Scraping : Histoire de l'Algérie - https://www.monde-diplomatique.fr/mav/121/PIRONET/47320\n",
      "🔍 Scraping : Algérie - https://fr.wikipedia.org/wiki/Alg%C3%A9rie\n",
      "🔍 Scraping : histoire de l'algérie à la période coloniale - https://algeria-watch.org/pdf/pdf_fr/colonialisme_introduction.pdf\n",
      "🔍 Scraping : DzWiki - https://www.dzwiki.com/\n",
      "✅ Données sauvegardées avec succès !\n"
     ]
    }
   ],
   "source": []
  },
  {
   "cell_type": "code",
   "execution_count": null,
   "id": "41078cc0-9fd0-44db-b793-8b0d051bf75f",
   "metadata": {},
   "outputs": [],
   "source": []
  }
 ],
 "metadata": {
  "kernelspec": {
   "display_name": "Python 3 (ipykernel)",
   "language": "python",
   "name": "python3"
  },
  "language_info": {
   "codemirror_mode": {
    "name": "ipython",
    "version": 3
   },
   "file_extension": ".py",
   "mimetype": "text/x-python",
   "name": "python",
   "nbconvert_exporter": "python",
   "pygments_lexer": "ipython3",
   "version": "3.12.7"
  }
 },
 "nbformat": 4,
 "nbformat_minor": 5
}
