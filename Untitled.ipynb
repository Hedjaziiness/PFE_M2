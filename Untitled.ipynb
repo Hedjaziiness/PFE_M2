{
 "cells": [
  {
   "cell_type": "code",
   "execution_count": null,
   "id": "4a65f0fb-1fe7-460b-b18e-4cd653530818",
   "metadata": {},
   "outputs": [],
   "source": []
  },
  {
   "cell_type": "code",
   "execution_count": null,
   "id": "35b3989e-483c-478d-aaa5-f26b5489d36e",
   "metadata": {},
   "outputs": [],
   "source": []
  },
  {
   "cell_type": "code",
   "execution_count": null,
   "id": "41078cc0-9fd0-44db-b793-8b0d051bf75f",
   "metadata": {},
   "outputs": [],
   "source": []
  }
 ],
 "metadata": {
  "kernelspec": {
   "display_name": "Python (Farasa)",
   "language": "python",
   "name": "farasa_env"
  },
  "language_info": {
   "codemirror_mode": {
    "name": "ipython",
    "version": 3
   },
   "file_extension": ".py",
   "mimetype": "text/x-python",
   "name": "python",
   "nbconvert_exporter": "python",
   "pygments_lexer": "ipython3",
   "version": "3.12.7"
  }
 },
 "nbformat": 4,
 "nbformat_minor": 5
}
