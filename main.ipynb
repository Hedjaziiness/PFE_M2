{
 "cells": [
  {
   "cell_type": "markdown",
   "id": "501b2fa1",
   "metadata": {},
   "source": [
    "***web scraping***\n"
   ]
  },
  {
   "cell_type": "code",
   "execution_count": 14,
   "id": "ec4ef096",
   "metadata": {},
   "outputs": [],
   "source": [
    "import json"
   ]
  },
  {
   "cell_type": "code",
   "execution_count": 15,
   "id": "41078cc0-9fd0-44db-b793-8b0d051bf75f",
   "metadata": {},
   "outputs": [],
   "source": [
    "def load_file(file_path='ar_links.json'):\n",
    "    with open(file_path, 'r',encoding='utf-8') as file:\n",
    "        return json.load(file)"
   ]
  },
  {
   "cell_type": "code",
   "execution_count": 18,
   "id": "639dbbe8-e8d5-4bce-9010-81bcb138b6f2",
   "metadata": {},
   "outputs": [
    {
     "name": "stdout",
     "output_type": "stream",
     "text": [
      "links: 23\n",
      "{'title': 'الجزائر - ويكيبيديا', 'link': 'https://ar.wikipedia.org/wiki/الجزائر', 'type': 'html'}\n",
      "{'title': 'ثورة التحرير الجزائرية', 'link': 'https://ar.wikipedia.org/wiki/ثورة_التحرير_الجزائرية', 'type': 'html'}\n",
      "{'title': 'اللباس التقليدي الجزائري', 'link': 'https://ar.wikipedia.org/wiki/لباس_تقليدي_جزائري', 'type': 'html'}\n",
      "{'title': 'التراث الثقافي اللامادي', 'link': 'https://ar.wikipedia.org/wiki/قائمة_التراث_الثقافي_اللامادي_في_الجزائر', 'type': 'html'}\n",
      "{'title': 'الثقافة الجزائرية', 'link': 'https://mawdoo3.com/الثقافة_الجزائرية', 'type': 'html'}\n",
      "{'title': 'فنون وثقافة - وزارة الخارجية', 'link': 'https://www.mfa.gov.dz/ar/discover-algeria/arts-and-culture', 'type': 'html'}\n",
      "{'title': 'ثورة التحرير الجزائرية - الجزيرة', 'link': 'https://www.aljazeera.net/encyclopedia/2022/10/31/ثورة-التحرير-الجزائرية', 'type': 'html'}\n",
      "{'title': 'قصة المروحة التي أوقعت الجزائر في الاستعمار', 'link': 'https://www.bbc.com/arabic/articles/cpvz4l17vg3o', 'type': 'html'}\n",
      "{'title': 'اليوم الوطني للشهيد', 'link': 'https://cnerh-nov54.dz/article/53', 'type': 'html'}\n",
      "{'title': 'بحث حول الثورة الجزائرية', 'link': 'https://www.selsabil.com/2017/12/2017_31.html', 'type': 'html'}\n",
      "{'title': 'Culture algérienne - Wikipedia', 'link': 'https://fr.wikipedia.org/wiki/Culture_algérienne', 'type': 'html'}\n",
      "{'title': \"Histoire de l'Algérie - Wikipedia\", 'link': 'https://fr.wikipedia.org/wiki/Histoire_de_l%27Algérie', 'type': 'html'}\n",
      "{'title': 'Algérie - Wikipedia', 'link': 'https://fr.wikipedia.org/wiki/Algérie', 'type': 'html'}\n",
      "{'title': 'Histoire coloniale - Algeria Watch', 'link': 'https://algeria-watch.org/pdf/pdf_fr/colonialisme_introduction.pdf', 'type': 'pdf'}\n",
      "{'title': 'DzWiki - Encyclopédie algérienne', 'link': 'https://www.dzwiki.com/', 'type': 'html'}\n",
      "{'title': 'Musée national des Antiquités', 'link': 'https://musee-antiquites.art.dz/presentation/', 'type': 'html'}\n",
      "{'title': 'Ministère de la Culture Algérie', 'link': 'https://m-culture.gov.dz/', 'type': 'html'}\n",
      "{'title': 'Les meilleurs plats algériens', 'link': 'https://www.cherifaistesvalises.com/les-meilleurs-plats-algeriens-un-voyage-culinaire-authentique/', 'type': 'html'}\n",
      "{'title': 'Recettes Traditionnelles Algériennes', 'link': 'https://www.196flavors.com/fr/recettes-traditionnelles-algeriennes/', 'type': 'html'}\n",
      "{'title': 'Bibliothèque Gallica (BNF)', 'link': 'https://gallica.bnf.fr/', 'type': 'html'}\n",
      "{'title': 'Base Persée (Sciences humaines)', 'link': 'https://www.persee.fr/', 'type': 'html'}\n",
      "{'title': 'Publications Jstor', 'link': 'https://www.jstor.org/', 'type': 'html'}\n",
      "{'title': 'UNESCO - Algérie', 'link': 'https://whc.unesco.org/fr/etatsparties/dz', 'type': 'html'}\n"
     ]
    }
   ],
   "source": [
    "file_path='ar_links.json'\n",
    "\n",
    "with open(file_path, 'r', encoding='utf-8') as file:\n",
    "    links= json.load(file)\n",
    "    print('links:',len(links))\n",
    "    for l in links:\n",
    "        print(l)"
   ]
  },
  {
   "cell_type": "code",
   "execution_count": null,
   "id": "d01fedd1-b23d-4392-8e1d-15d50f6dac7f",
   "metadata": {},
   "outputs": [],
   "source": [
    "\n"
   ]
  },
  {
   "cell_type": "code",
   "execution_count": null,
   "id": "d157b3c6-ac6a-4c9f-8f69-c2f68a192dfc",
   "metadata": {},
   "outputs": [],
   "source": []
  },
  {
   "cell_type": "code",
   "execution_count": null,
   "id": "cf6315c2-cc1f-4d7e-b876-c12d66f49f00",
   "metadata": {},
   "outputs": [],
   "source": []
  },
  {
   "cell_type": "code",
   "execution_count": null,
   "id": "e85b6810-30be-46f3-9019-e071428db0b5",
   "metadata": {},
   "outputs": [],
   "source": []
  },
  {
   "cell_type": "code",
   "execution_count": null,
   "id": "8e87cc25-112d-441c-8adb-8e1e14e71e83",
   "metadata": {},
   "outputs": [],
   "source": []
  },
  {
   "cell_type": "code",
   "execution_count": null,
   "id": "90f206b5-2efb-4421-bbfa-298f3b4518e8",
   "metadata": {},
   "outputs": [],
   "source": []
  }
 ],
 "metadata": {
  "kernelspec": {
   "display_name": "Python (Farasa)",
   "language": "python",
   "name": "farasa_env"
  },
  "language_info": {
   "codemirror_mode": {
    "name": "ipython",
    "version": 3
   },
   "file_extension": ".py",
   "mimetype": "text/x-python",
   "name": "python",
   "nbconvert_exporter": "python",
   "pygments_lexer": "ipython3",
   "version": "3.12.7"
  }
 },
 "nbformat": 4,
 "nbformat_minor": 5
}
